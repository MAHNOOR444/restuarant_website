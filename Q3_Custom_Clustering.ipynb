import pandas as pd
import numpy as np
import random
import matplotlib.pyplot as plt
from sklearn.preprocessing import StandardScaler

# Step 1: Load dataset
df = pd.read_excel("Mine_Dataset.xlsx", sheet_name="Normalized_Data")
df = df.drop(columns=['M'])  # Remove label column

# Step 2: Convert to NumPy
X = df.values

# Step 3: Shuffle data
np.random.shuffle(X)

# ------------------- K-MEANS IMPLEMENTATION -------------------
def euclidean(p1, p2):
    return np.sqrt(np.sum((p1 - p2) ** 2))

def initialize_centroids(X, k):
    return X[np.random.choice(X.shape[0], k, replace=False)]

def assign_clusters(X, centroids):
    clusters = [[] for _ in centroids]
    for point in X:
        distances = [euclidean(point, centroid) for centroid in centroids]
        cluster_idx = np.argmin(distances)
        clusters[cluster_idx].append(point)
    return clusters

def update_centroids(clusters):
    return [np.mean(cluster, axis=0) for cluster in clusters]

def calculate_sse(clusters, centroids):
    sse = 0
    for i, cluster in enumerate(clusters):
        for point in cluster:
            sse += euclidean(point, centroids[i]) ** 2
    return sse

def kmeans(X, k, max_iters=100):
    centroids = initialize_centroids(X, k)
    for _ in range(max_iters):
        clusters = assign_clusters(X, centroids)
        old_centroids = centroids
        centroids = update_centroids(clusters)
        if np.allclose(old_centroids, centroids):
            break
    sse = calculate_sse(clusters, centroids)
    return clusters, centroids, sse

# Run for different values of k and store SSE
sse_list = []
for k in range(2, 10):
    _, _, sse = kmeans(X, k)
    sse_list.append(sse)

# Plot elbow method
plt.plot(range(2, 10), sse_list, marker='o')
plt.title("K-Means Elbow Method")
plt.xlabel("K")
plt.ylabel("SSE")
plt.show()
